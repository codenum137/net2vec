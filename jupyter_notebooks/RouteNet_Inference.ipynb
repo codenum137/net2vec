{
 "cells": [
  {
   "cell_type": "markdown",
   "metadata": {
    "colab_type": "text",
    "id": "EDW3yVuVXBpG"
   },
   "source": [
    "##### Copyright 2018 Krzysztof Rusek, José Suárez-Varela, Albert Mestres, Pere Barlet-Ros, Albert Cabellos-Aparicio.\n",
    "AGH University of Science and Technology, Universitat Politècnica de\n",
    "Catalunya\n",
    "\n",
    "Licensed under the MIT License (the \"License\");\n"
   ]
  },
  {
   "cell_type": "code",
   "execution_count": null,
   "metadata": {
    "colab": {},
    "colab_type": "code",
    "id": "_nkthuQ-rg2d"
   },
   "outputs": [],
   "source": [
    "#@title Licensed under the MIT License (the \"License\"); { display-mode:\"form\" }\n",
    "# MIT License\n",
    "\n",
    "# Copyright (c) 2018 Krzystzof Rusek and Lucjan Janowski\n",
    "\n",
    "# Permission is hereby granted, free of charge, to any person obtaining a copy\n",
    "# of this software and associated documentation files (the \"Software\"), to deal\n",
    "# in the Software without restriction, including without limitation the rights\n",
    "# to use, copy, modify, merge, publish, distribute, sublicense, and/or sell\n",
    "# copies of the Software, and to permit persons to whom the Software is\n",
    "# furnished to do so, subject to the following conditions:\n",
    "\n",
    "# The above copyright notice and this permission notice shall be included in all\n",
    "# copies or substantial portions of the Software.\n",
    "\n",
    "# THE SOFTWARE IS PROVIDED \"AS IS\", WITHOUT WARRANTY OF ANY KIND, EXPRESS OR\n",
    "# IMPLIED, INCLUDING BUT NOT LIMITED TO THE WARRANTIES OF MERCHANTABILITY,\n",
    "# FITNESS FOR A PARTICULAR PURPOSE AND NONINFRINGEMENT. IN NO EVENT SHALL THE\n",
    "# AUTHORS OR COPYRIGHT HOLDERS BE LIABLE FOR ANY CLAIM, DAMAGES OR OTHER\n",
    "# LIABILITY, WHETHER IN AN ACTION OF CONTRACT, TORT OR OTHERWISE, ARISING FROM,\n",
    "# OUT OF OR IN CONNECTION WITH THE SOFTWARE OR THE USE OR OTHER DEALINGS IN THE\n",
    "# SOFTWARE."
   ]
  },
  {
   "cell_type": "markdown",
   "metadata": {
    "colab_type": "text",
    "id": "q9aEWYeLrpOj"
   },
   "source": [
    "# Unveiling the potential of Graph Neural Networks for network modeling and optimization in SDN - Demo\n",
    "This notebook shows how to apply the trained route model on a custom network.\n",
    "\n",
    "\n",
    "<table class=\"tfo-notebook-buttons\" align=\"left\">\n",
    "  <td>\n",
    "    <a target=\"_blank\" href=\"https://colab.research.google.com/github/krzysztofrusek/net2vec/blob/master/jupyter_notebooks/RouteNet_Inference.ipynb\"><img src=\"https://www.tensorflow.org/images/colab_logo_32px.png\" />Run in Google Colab</a>\n",
    "  </td>\n",
    "  <td>\n",
    "    <a target=\"_blank\" href=\"https://github.com/krzysztofrusek/net2vec/tree/master/jupyter_notebooks/RouteNet_Inference.ipynb\"><img src=\"https://www.tensorflow.org/images/GitHub-Mark-32px.png\" />View source on GitHub</a>\n",
    "  </td>\n",
    "</table>\n",
    "\n"
   ]
  },
  {
   "cell_type": "markdown",
   "metadata": {
    "colab_type": "text",
    "id": "NvQirxTRuml4"
   },
   "source": [
    "## Dataset\n",
    "\n",
    "Let us begin with cloning the repository from GitHub. Once done, we need to download and uncompress the checkpoint containing the weights of the network."
   ]
  },
  {
   "cell_type": "code",
   "execution_count": 1,
   "metadata": {
    "colab": {
     "base_uri": "https://localhost:8080/",
     "height": 254
    },
    "colab_type": "code",
    "executionInfo": {
     "elapsed": 7597,
     "status": "ok",
     "timestamp": 1553531961319,
     "user": {
      "displayName": "Krzysztof Rusek",
      "photoUrl": "https://lh5.googleusercontent.com/-rWxDO5VZoqg/AAAAAAAAAAI/AAAAAAAAK6s/sGhcXm_Zouw/s64/photo.jpg",
      "userId": "05081821886171524346"
     },
     "user_tz": -60
    },
    "id": "AZ0rEJXVXGld",
    "outputId": "d3e4ab82-3256-418b-ecec-222a730056b6"
   },
   "outputs": [
    {
     "name": "stdout",
     "output_type": "stream",
     "text": [
      "fatal: destination path 'net2vec' already exists and is not an empty directory.\n",
      "--2019-03-25 16:39:17--  http://knowledgedefinednetworking.org/data/trained_model_delay.zip\n",
      "Resolving knowledgedefinednetworking.org (knowledgedefinednetworking.org)... 147.83.130.144\n",
      "Connecting to knowledgedefinednetworking.org (knowledgedefinednetworking.org)|147.83.130.144|:80... connected.\n",
      "HTTP request sent, awaiting response... 200 OK\n",
      "Length: 3176159 (3.0M) [application/zip]\n",
      "Saving to: ‘trained_model_delay.zip.2’\n",
      "\n",
      "trained_model_delay 100%[===================>]   3.03M  2.41MB/s    in 1.3s    \n",
      "\n",
      "2019-03-25 16:39:19 (2.41 MB/s) - ‘trained_model_delay.zip.2’ saved [3176159/3176159]\n",
      "\n",
      "Archive:  trained_model_delay.zip\n"
     ]
    }
   ],
   "source": [
    "! git clone https://github.com/krzysztofrusek/net2vec\n",
    "  \n",
    "! wget http://knowledgedefinednetworking.org/data/trained_model_delay.zip\n",
    "  \n",
    "! unzip -fo trained_model_delay.zip"
   ]
  },
  {
   "cell_type": "code",
   "execution_count": 2,
   "metadata": {
    "colab": {
     "base_uri": "https://localhost:8080/",
     "height": 145
    },
    "colab_type": "code",
    "executionInfo": {
     "elapsed": 2930,
     "status": "ok",
     "timestamp": 1553531966441,
     "user": {
      "displayName": "Krzysztof Rusek",
      "photoUrl": "https://lh5.googleusercontent.com/-rWxDO5VZoqg/AAAAAAAAAAI/AAAAAAAAK6s/sGhcXm_Zouw/s64/photo.jpg",
      "userId": "05081821886171524346"
     },
     "user_tz": -60
    },
    "id": "769ayT72-x24",
    "outputId": "12146f42-9603-4ab2-9799-9b932b9f39e4"
   },
   "outputs": [
    {
     "name": "stdout",
     "output_type": "stream",
     "text": [
      "\n",
      "WARNING: The TensorFlow contrib module will not be included in TensorFlow 2.0.\n",
      "For more information, please see:\n",
      "  * https://github.com/tensorflow/community/blob/master/rfcs/20180907-contrib-sunset.md\n",
      "  * https://github.com/tensorflow/addons\n",
      "If you depend on functionality not listed there, please file an issue.\n",
      "\n"
     ]
    }
   ],
   "source": [
    "import numpy as np\n",
    "import tensorflow as tf\n",
    "import matplotlib.pyplot as plt\n",
    "import importlib\n",
    "import sys\n",
    "import networkx as nx\n",
    "\n",
    "tfe = tf.contrib.eager\n"
   ]
  },
  {
   "cell_type": "code",
   "execution_count": null,
   "metadata": {
    "colab": {},
    "colab_type": "code",
    "id": "vN9yr52YiQEF"
   },
   "outputs": [],
   "source": [
    "sys.path.append('./net2vec/routenet')"
   ]
  },
  {
   "cell_type": "code",
   "execution_count": null,
   "metadata": {
    "colab": {},
    "colab_type": "code",
    "id": "M2-p2fkThT7t"
   },
   "outputs": [],
   "source": [
    "upc=importlib.import_module('routenet')"
   ]
  },
  {
   "cell_type": "markdown",
   "metadata": {
    "colab_type": "text",
    "id": "3eXa87VlcaRB"
   },
   "source": [
    "# Model\n",
    "\n",
    "The model was trained for particular hyperparameters. In order to get correct predictions, one needs to use exactly the same values for the inference. \n",
    "Since RouteNet is implemented as a keras model it can be easily restored from the checkpoint.\n",
    "\n",
    "**Pay attention to run this part only once when using eager mode, because the second model will have different names of the variables**.\n",
    "\n",
    "In the future this will move to `tf.train.Checkpoint`"
   ]
  },
  {
   "cell_type": "code",
   "execution_count": 5,
   "metadata": {
    "colab": {
     "base_uri": "https://localhost:8080/",
     "height": 292
    },
    "colab_type": "code",
    "executionInfo": {
     "elapsed": 823,
     "status": "ok",
     "timestamp": 1553531978598,
     "user": {
      "displayName": "Krzysztof Rusek",
      "photoUrl": "https://lh5.googleusercontent.com/-rWxDO5VZoqg/AAAAAAAAAAI/AAAAAAAAK6s/sGhcXm_Zouw/s64/photo.jpg",
      "userId": "05081821886171524346"
     },
     "user_tz": -60
    },
    "id": "Or3cpThOW-KQ",
    "outputId": "ea943a31-87ac-4b3f-cd3c-005cc3fc2f5d"
   },
   "outputs": [
    {
     "name": "stdout",
     "output_type": "stream",
     "text": [
      "WARNING:tensorflow:From ./net2vec/routenet/routenet.py:359: GRUCell.__init__ (from tensorflow.python.ops.rnn_cell_impl) is deprecated and will be removed in a future version.\n",
      "Instructions for updating:\n",
      "This class is equivalent as tf.keras.layers.GRUCell, and will be replaced by that in Tensorflow 2.0.\n",
      "WARNING:tensorflow:From /usr/local/lib/python3.6/dist-packages/tensorflow/python/ops/resource_variable_ops.py:642: colocate_with (from tensorflow.python.framework.ops) is deprecated and will be removed in a future version.\n",
      "Instructions for updating:\n",
      "Colocations handled automatically by placer.\n",
      "WARNING:tensorflow:From /usr/local/lib/python3.6/dist-packages/tensorflow/python/keras/layers/core.py:143: calling dropout (from tensorflow.python.ops.nn_ops) with keep_prob is deprecated and will be removed in a future version.\n",
      "Instructions for updating:\n",
      "Please use `rate` instead of `keep_prob`. Rate should be set to `rate = 1 - keep_prob`.\n",
      "WARNING:tensorflow:Saver is deprecated, please switch to tf.train.Checkpoint or tf.keras.Model.save_weights for training checkpoints. When executing eagerly variables do not necessarily have unique names, and so the variable.name-based lookups Saver performs are error-prone.\n",
      "WARNING:tensorflow:From /usr/local/lib/python3.6/dist-packages/tensorflow/python/training/saver.py:1266: checkpoint_exists (from tensorflow.python.training.checkpoint_management) is deprecated and will be removed in a future version.\n",
      "Instructions for updating:\n",
      "Use standard file APIs to check for files with this prefix.\n",
      "INFO:tensorflow:Restoring parameters from nsf_delay_model/model.ckpt-292933\n"
     ]
    }
   ],
   "source": [
    "tf.enable_eager_execution()\n",
    "\n",
    "hparams = upc.hparams.parse(\"l2=0.1,dropout_rate=0.5,link_state_dim=16,path_state_dim=32,readout_units=256,learning_rate=0.001,T=8\")\n",
    "\n",
    "model = upc.ComnetModel(hparams)\n",
    "model.build()\n",
    "\n",
    "saver =  tfe.Saver(model.variables)\n",
    "saver.restore('nsf_delay_model/model.ckpt-292933')"
   ]
  },
  {
   "cell_type": "markdown",
   "metadata": {
    "colab_type": "text",
    "id": "FPh7oo6PeA3J"
   },
   "source": [
    "# Network\n",
    "\n",
    "In this notebook, we are going to predict the delay in a random network with shortest path routing. Let's use Barabasi-Alber small world model of a network with $n$ nodes. Python package `networkx` implements generators and shortest path computation routines.\n",
    "\n",
    "The traffic matrix is randomly generated from a uniform distribution : $TM\\sim Uni(0.1,1.1)$ that resembles demands used in the simulation. \n",
    "Note that we assume constant link speed the same as described in the paper."
   ]
  },
  {
   "cell_type": "code",
   "execution_count": 46,
   "metadata": {
    "colab": {
     "base_uri": "https://localhost:8080/",
     "height": 347
    },
    "colab_type": "code",
    "executionInfo": {
     "elapsed": 1250,
     "status": "ok",
     "timestamp": 1553534964909,
     "user": {
      "displayName": "Krzysztof Rusek",
      "photoUrl": "https://lh5.googleusercontent.com/-rWxDO5VZoqg/AAAAAAAAAAI/AAAAAAAAK6s/sGhcXm_Zouw/s64/photo.jpg",
      "userId": "05081821886171524346"
     },
     "user_tz": -60
    },
    "id": "h-bnYgrBINkg",
    "outputId": "9198d28d-19a2-4e75-9a64-c8b66493afba"
   },
   "outputs": [
    {
     "data": {
      "image/png": "[encoded data removed]",
      "text/plain": [
       "<Figure size 576x396 with 1 Axes>"
      ]
     },
     "metadata": {
      "tags": []
     },
     "output_type": "display_data"
    }
   ],
   "source": [
    "#@title Simulation parameters { display-mode:\"form\" }\n",
    "#@markdown Number of nodes in the network\n",
    "n=10 #@param \n",
    "\n",
    "G = nx.barabasi_albert_graph(n,2)\n",
    "G = nx.DiGraph(G)\n",
    "\n",
    "nx.draw_networkx(G)\n",
    "\n",
    "TM = np.random.uniform(low=0.1,high=1.1,size=n*(n-1))"
   ]
  },
  {
   "cell_type": "markdown",
   "metadata": {
    "colab_type": "text",
    "id": "et587PCUG2E0"
   },
   "source": [
    "Find the shortest paths"
   ]
  },
  {
   "cell_type": "code",
   "execution_count": null,
   "metadata": {
    "colab": {},
    "colab_type": "code",
    "id": "HmISJF0iG5bo"
   },
   "outputs": [],
   "source": [
    "all_pairs=dict(nx.all_pairs_dijkstra_path(G))\n",
    "edges=list(G.edges)\n"
   ]
  },
  {
   "cell_type": "markdown",
   "metadata": {
    "colab_type": "text",
    "id": "MvCY4P1cfI7o"
   },
   "source": [
    "In `networkx` edges are defined by the pair of endpoints. In RouteNet, the network is defined with links in mind, thus we need to convert the presentation and create indices used as an input of RouteNet."
   ]
  },
  {
   "cell_type": "code",
   "execution_count": 48,
   "metadata": {
    "colab": {
     "base_uri": "https://localhost:8080/",
     "height": 35
    },
    "colab_type": "code",
    "executionInfo": {
     "elapsed": 926,
     "status": "ok",
     "timestamp": 1553534970135,
     "user": {
      "displayName": "Krzysztof Rusek",
      "photoUrl": "https://lh5.googleusercontent.com/-rWxDO5VZoqg/AAAAAAAAAAI/AAAAAAAAK6s/sGhcXm_Zouw/s64/photo.jpg",
      "userId": "05081821886171524346"
     },
     "user_tz": -60
    },
    "id": "zUk4qg9jHTTV",
    "outputId": "04464f4d-ac2b-4d61-cae9-99f1279ddd2e"
   },
   "outputs": [
    {
     "data": {
      "text/plain": [
       "90"
      ]
     },
     "execution_count": 48,
     "metadata": {
      "tags": []
     },
     "output_type": "execute_result"
    }
   ],
   "source": [
    "paths=[]\n",
    "path_names=[]\n",
    "for i in range(n):\n",
    "    for j in range(n):\n",
    "        if i != j:\n",
    "            paths.append([edges.index(tup) for tup in upc.pairwise(all_pairs[i][j])])\n",
    "            path_names.append((i,j))\n",
    "len(paths)"
   ]
  },
  {
   "cell_type": "markdown",
   "metadata": {
    "colab_type": "text",
    "id": "RFhIKF8ylmdM"
   },
   "source": [
    "# Inference\n",
    "\n",
    "The RouteNet takes traffic matrix and routing matrix as an input. These are the features, however, the routing is preprocessed to allow the model trained on one topology to generalize.\n",
    "The routing scheme in the network by a set of paths $\\mathcal{R}=\\{p_k\\} \\quad k \\in (0,1,\\ldots,n_p) $. Each path is defined as a sequence of links $p_k=(l_{k(0)},\\ldots, l_{k(|p_k|)})$, where $k(i)$ is the index of the $i$-th link in the path $k$.  \n",
    "\n",
    "These sequences are represented by indices for efficient manipulation in TensorFlow. The code below shows how to prepare the input to the network.\n",
    "\n",
    "Notice how scaling and shifting are applied to match the operations used during the training. The inference is repeated 50 times with active dropout - this makes the random prediction and allows to estimate the confidence."
   ]
  },
  {
   "cell_type": "code",
   "execution_count": null,
   "metadata": {
    "colab": {},
    "colab_type": "code",
    "id": "F8Ub4i-aW-KZ"
   },
   "outputs": [],
   "source": [
    "link_indices, path_indices, sequ_indices = upc.make_indices(paths)\n",
    "\n",
    "n_paths = n*(n-1)\n",
    "n_links = max(max(paths))+1\n",
    "n_total = len(path_indices)\n",
    "\n",
    "tm = tf.convert_to_tensor((TM-0.5)/0.5,dtype=tf.float32)\n",
    "\n",
    "feature={\n",
    "            'traffic':tf.convert_to_tensor(tm,dtype=tf.float32),\n",
    "            'links':link_indices,\n",
    "            'paths':path_indices,\n",
    "            'sequances':sequ_indices,\n",
    "            'n_links':n_links, \n",
    "            'n_paths':n_paths,\n",
    "            'n_total':n_total\n",
    "        }\n",
    "\n",
    "# set training=True to enable dropout, this approximates posterior predictive distribution\n",
    "hats = [  model(feature, training=True).numpy() for i in range(50)]\n",
    "\n",
    "# scaling and shifting parameters from training set\n",
    "hats = 2.5*np.concatenate(hats,axis=1)+2.8\n",
    "\n",
    "prediction = np.median(hats,axis=1)\n",
    "\n",
    "conf = np.percentile(hats,q=[5,95],axis=1)"
   ]
  },
  {
   "cell_type": "markdown",
   "metadata": {
    "colab_type": "text",
    "id": "QwsB9KMXpIQA"
   },
   "source": [
    "# Visualisation"
   ]
  },
  {
   "cell_type": "code",
   "execution_count": 50,
   "metadata": {
    "colab": {
     "base_uri": "https://localhost:8080/",
     "height": 361
    },
    "colab_type": "code",
    "executionInfo": {
     "elapsed": 1173,
     "status": "ok",
     "timestamp": 1553534987724,
     "user": {
      "displayName": "Krzysztof Rusek",
      "photoUrl": "https://lh5.googleusercontent.com/-rWxDO5VZoqg/AAAAAAAAAAI/AAAAAAAAK6s/sGhcXm_Zouw/s64/photo.jpg",
      "userId": "05081821886171524346"
     },
     "user_tz": -60
    },
    "id": "FAA2zGL_W-Kj",
    "outputId": "4aae8ba0-556f-4eab-9589-626e8a75216b"
   },
   "outputs": [
    {
     "data": {
      "image/png": "[encoded data removed]",
      "text/plain": [
       "<Figure size 576x396 with 1 Axes>"
      ]
     },
     "metadata": {
      "tags": []
     },
     "output_type": "display_data"
    }
   ],
   "source": [
    "ax = plt.subplot()\n",
    "ax.barh(y=range(n*(n-1)),width=prediction)\n",
    "ax.set_xlabel(\"Delay\");\n",
    "ax.set_ylabel('Path');\n"
   ]
  },
  {
   "cell_type": "code",
   "execution_count": 51,
   "metadata": {
    "colab": {
     "base_uri": "https://localhost:8080/",
     "height": 363
    },
    "colab_type": "code",
    "executionInfo": {
     "elapsed": 1065,
     "status": "ok",
     "timestamp": 1553534995705,
     "user": {
      "displayName": "Krzysztof Rusek",
      "photoUrl": "https://lh5.googleusercontent.com/-rWxDO5VZoqg/AAAAAAAAAAI/AAAAAAAAK6s/sGhcXm_Zouw/s64/photo.jpg",
      "userId": "05081821886171524346"
     },
     "user_tz": -60
    },
    "id": "em4pFsAnB8kF",
    "outputId": "bbdd90f9-cf21-4146-fd7a-dada45ea9257"
   },
   "outputs": [
    {
     "data": {
      "image/png": "[encoded data removed]",
      "text/plain": [
       "<Figure size 576x396 with 1 Axes>"
      ]
     },
     "metadata": {
      "tags": []
     },
     "output_type": "display_data"
    }
   ],
   "source": [
    "idx = (-prediction).argsort()[:10]\n",
    "labels = [str(path_names[x]) for x in idx]\n",
    "\n",
    "ax = plt.subplot()\n",
    "ax.boxplot(hats[idx,:].T, labels=labels);\n",
    "ax.set_title(\"Top 10 delayed paths\");"
   ]
  },
  {
   "cell_type": "markdown",
   "metadata": {
    "colab_type": "text",
    "id": "0bOW4yhR3Adr"
   },
   "source": [
    "# References\n",
    "\n",
    "*Unveiling the potential of GNN for network modeling and optimization in SDN* by K. Rusek, J. Suárez-Varela, A. Mestres, P. Barlet-Ros, A. Cabellos-Aparicio accepted for ACM Symposium on SDN Research, April 2019, San Jose, CA, USA. [arXiv:1901.08113](https://arxiv.org/abs/1901.08113)"
   ]
  }
 ],
 "metadata": {
  "colab": {
   "collapsed_sections": [],
   "name": "RouteNet_Inference.ipynb",
   "provenance": [],
   "toc_visible": true,
   "version": "0.3.2"
  },
  "kernelspec": {
   "display_name": "Python 3",
   "language": "python",
   "name": "python3"
  },
  "language_info": {
   "codemirror_mode": {
    "name": "ipython",
    "version": 3
   },
   "file_extension": ".py",
   "mimetype": "text/x-python",
   "name": "python",
   "nbconvert_exporter": "python",
   "pygments_lexer": "ipython3",
   "version": "3.6.8"
  }
 },
 "nbformat": 4,
 "nbformat_minor": 2
}
